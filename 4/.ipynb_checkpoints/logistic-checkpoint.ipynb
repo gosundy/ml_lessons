{
 "cells": [
  {
   "cell_type": "code",
   "execution_count": 2,
   "metadata": {
    "collapsed": true
   },
   "outputs": [],
   "source": [
    "import numpy as np\n"
   ]
  },
  {
   "cell_type": "code",
   "execution_count": 3,
   "metadata": {},
   "outputs": [
    {
     "name": "stdout",
     "output_type": "stream",
     "text": [
      "[[4.89665998e-09]]\n"
     ]
    }
   ],
   "source": [
    "#一个数据罗杰斯特回归\n",
    "ln=0.8\n",
    "x=np.array([[1,2,3,4]]).T\n",
    "target=np.array([[1]])\n",
    "w=np.random.randn(1,4)\n",
    "b=np.random.randn(1,1)\n",
    "for i in range(100):\n",
    "    z=np.dot(w,x)+b\n",
    "    a=1/(1+np.exp(-z))\n",
    "    L=-(target*np.log(a)+(1-target)*np.log(1-a))\n",
    "    dz=a-target\n",
    "    dw=dz*x\n",
    "    db=dz\n",
    "    w-=(ln*dw).T\n",
    "    b-=ln*db\n",
    "print(L)"
   ]
  },
  {
   "cell_type": "code",
   "execution_count": 110,
   "metadata": {},
   "outputs": [
    {
     "name": "stdout",
     "output_type": "stream",
     "text": [
      "((4, 1), (2, 1), (1, 4), (1, 4), (4, 2))\n"
     ]
    }
   ],
   "source": [
    "print(data.shape,target.shape,w.shape,b.shape,x.shape)"
   ]
  },
  {
   "cell_type": "code",
   "execution_count": 66,
   "metadata": {},
   "outputs": [
    {
     "name": "stdout",
     "output_type": "stream",
     "text": [
      "2.5034932316575515e-05\n"
     ]
    }
   ],
   "source": [
    "#多个数据罗杰斯特回归\n",
    "ln=0.9\n",
    "x=np.array([[1,2,3,4],[4,5,6,7]]).T\n",
    "target=np.array([[1,0]])\n",
    "w=np.random.randn(1,4)\n",
    "b=np.random.randn(1,1)\n",
    "for i in range(100000):\n",
    "    z=np.dot(w,x)+b\n",
    "    a=1/(1+np.exp(-z))\n",
    "    L=np.sum(-(target*np.log(a)+(1-target)*np.log(1-a)))/x.shape[1]\n",
    "    dz=a-target\n",
    "    dw=np.dot(x,dz.T)/x.shape[0]\n",
    "    db=np.sum(dz)/dz.shape[1]\n",
    "    w-=(ln*dw).T\n",
    "    b-=ln*db\n",
    "print(L)"
   ]
  },
  {
   "cell_type": "code",
   "execution_count": 64,
   "metadata": {},
   "outputs": [
    {
     "name": "stdout",
     "output_type": "stream",
     "text": [
      "[[9.99966499e-01 1.65740156e-05 1.97665153e-02 1.11970512e-11\n",
      "  9.99999972e-01]]\n"
     ]
    }
   ],
   "source": []
  }
 ],
 "metadata": {
  "kernelspec": {
   "display_name": "Python 2",
   "language": "python",
   "name": "python2"
  },
  "language_info": {
   "codemirror_mode": {
    "name": "ipython",
    "version": 2
   },
   "file_extension": ".py",
   "mimetype": "text/x-python",
   "name": "python",
   "nbconvert_exporter": "python",
   "pygments_lexer": "ipython2",
   "version": "2.7.14"
  }
 },
 "nbformat": 4,
 "nbformat_minor": 2
}
