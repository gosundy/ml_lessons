{
 "cells": [
  {
   "cell_type": "code",
   "execution_count": 1,
   "metadata": {
    "collapsed": true
   },
   "outputs": [],
   "source": [
    "import numpy as np\n",
    "import pandas as pd\n",
    "import matplotlib.pyplot as plt"
   ]
  },
  {
   "cell_type": "code",
   "execution_count": 9,
   "metadata": {},
   "outputs": [
    {
     "data": {
      "image/png": "[encoded data removed]",
      "text/plain": [
       "<matplotlib.figure.Figure at 0x7f54f77c8a10>"
      ]
     },
     "metadata": {},
     "output_type": "display_data"
    }
   ],
   "source": [
    "dfData=pd.read_csv(\"./data.csv\")\n",
    "data=dfData.iloc[:,[0,1]].T.values\n",
    "target=dfData.iloc[:,[2]].T.values\n",
    "colors=[\"red\",\"blue\"]\n",
    "for i in range(len(colors)):\n",
    "    x1=data[0,:][target[0]==i]\n",
    "    x2=data[1,:][target[0]==i]\n",
    "    plt.scatter(x1,x2,c=colors[i],marker=\"o\")\n",
    "plt.show()"
   ]
  },
  {
   "cell_type": "code",
   "execution_count": 4,
   "metadata": {},
   "outputs": [],
   "source": [
    "#第一层的激活函数使用sigmod\n",
    "def g1(z1):\n",
    "    return 1/(1+np.exp(-z1))\n",
    "def g1Prime(z1):\n",
    "    a=g1(z1)\n",
    "    return a-np.square(a)\n",
    "#第二层的激活函数使用sigmod\n",
    "def g2(z2):\n",
    "    return 1/(1+np.exp(-z2))\n",
    "def g2Prime(z2):\n",
    "    a=g1(z2)\n",
    "    return a-np.square(a)"
   ]
  },
  {
   "cell_type": "code",
   "execution_count": 166,
   "metadata": {},
   "outputs": [
    {
     "name": "stdout",
     "output_type": "stream",
     "text": [
      "[[0.16812381]]\n"
     ]
    }
   ],
   "source": [
    "#使用两层的神经网络处理线性不可分的数据\n",
    "#第零层为数据输入层\n",
    "#第二层为隐藏层(神经元个数为2)\n",
    "#第三层为输出层(神经元个数为1)\n",
    "ln=0.3\n",
    "x=data\n",
    "m=x.shape[1]\n",
    "w1=np.random.randn(2,2)*0.01\n",
    "b1=np.zeros((2,1))\n",
    "w2=np.random.randn(1,2)*0.01\n",
    "b2=np.zeros((1,1))\n",
    "for i in xrange(10000):\n",
    "    z1=np.dot(w1,x)+b1\n",
    "    a1=g1(z1)\n",
    "    z2=np.dot(w2,a1)+b2\n",
    "    a2=g2(z2)\n",
    "    #cost function\n",
    "    L=np.sum(-(target*np.log(a2)+(1-target)*np.log(1-a2)),axis=1,keepdims=True)/m\n",
    "    dz2=a2-target\n",
    "    dw2=np.dot(dz2,a1.T)/m\n",
    "    db2=np.sum(dz2,axis=1,keepdims=True)/m\n",
    "    dz1=np.dot(w2.T,dz2)*g1Prime(z1)\n",
    "    dw1=np.dot(dz1,x.T)/m\n",
    "    db1=np.sum(dz1)/m\n",
    "    w2-=ln*dw2\n",
    "    b2-=ln*db2\n",
    "    w1-=ln*dw1\n",
    "    b1-=ln*db1\n",
    "print(L)"
   ]
  },
  {
   "cell_type": "code",
   "execution_count": 134,
   "metadata": {},
   "outputs": [
    {
     "name": "stdout",
     "output_type": "stream",
     "text": [
      "(array([[9.99679598e-01, 9.97346120e-01, 5.27707510e-01, 4.92019548e-01,\n",
      "        5.04458612e-03, 1.15333368e-05, 1.08963604e-05, 1.08936721e-05,\n",
      "        9.99769861e-01]]), array([[1, 1, 1, 1, 0, 0, 0, 0, 0]]))\n"
     ]
    }
   ],
   "source": [
    "#隐藏层采用两个神经单元发现误差还是比较大\n",
    "test=np.array([[1,2],[2,2],[2.5,2.5],[3,3],[4,4],[5,5],[6,6],[7,7],[0,0]]).T\n",
    "z1=np.dot(w1,test)+b1\n",
    "a1=g1(z1)\n",
    "z2=np.dot(w2,a1)+b2\n",
    "a2=g2(z2)\n",
    "print(a2,target)"
   ]
  },
  {
   "cell_type": "code",
   "execution_count": 175,
   "metadata": {},
   "outputs": [
    {
     "name": "stdout",
     "output_type": "stream",
     "text": [
      "[[0.00813994]]\n"
     ]
    }
   ],
   "source": [
    "#使用两层的神经网络处理线性不可分的数据\n",
    "#第零层为数据输入层\n",
    "#第二层为隐藏层(神经元个数为15)\n",
    "#第三层为输出层(神经元个数为1)\n",
    "ln=0.25\n",
    "x=data\n",
    "m=x.shape[1]\n",
    "w1=np.random.randn(15,2)*0.01\n",
    "b1=np.zeros((15,1))\n",
    "w2=np.random.randn(1,15)*0.01\n",
    "b2=np.zeros((1,1))\n",
    "for i in xrange(10000):\n",
    "    z1=np.dot(w1,x)+b1\n",
    "    a1=g1(z1)\n",
    "    z2=np.dot(w2,a1)+b2\n",
    "    a2=g2(z2)\n",
    "    #cost function\n",
    "    L=np.sum(-(target*np.log(a2)+(1-target)*np.log(1-a2)),axis=1,keepdims=True)/m\n",
    "    dz2=a2-target\n",
    "    dw2=np.dot(dz2,a1.T)/m\n",
    "    db2=np.sum(dz2,axis=1,keepdims=True)/m\n",
    "    dz1=np.dot(w2.T,dz2)*g1Prime(z1)\n",
    "    dw1=np.dot(dz1,x.T)/m\n",
    "    db1=np.sum(dz1)/m\n",
    "    w2-=ln*dw2\n",
    "    b2-=ln*db2\n",
    "    w1-=ln*dw1\n",
    "    b1-=ln*db1\n",
    "print(L)"
   ]
  },
  {
   "cell_type": "code",
   "execution_count": 176,
   "metadata": {},
   "outputs": [
    {
     "name": "stdout",
     "output_type": "stream",
     "text": [
      "(array([[9.99504311e-01, 9.99298773e-01, 9.92074056e-01, 9.65892575e-01,\n",
      "        6.85022209e-03, 1.19384070e-06, 1.67822291e-07, 1.31423794e-07,\n",
      "        9.99999969e-01]]), array([[1, 1, 1, 1, 0, 0, 0, 0, 0]]))\n"
     ]
    }
   ],
   "source": [
    "test=np.array([[1,2],[2,2],[2.5,2.5],[3,3],[4,4],[5,5],[6,6],[7,7],[0,0]]).T\n",
    "z1=np.dot(w1,test)+b1\n",
    "a1=g1(z1)\n",
    "z2=np.dot(w2,a1)+b2\n",
    "a2=g2(z2)\n",
    "print(a2,target)"
   ]
  }
 ],
 "metadata": {
  "kernelspec": {
   "display_name": "Python 2",
   "language": "python",
   "name": "python2"
  },
  "language_info": {
   "codemirror_mode": {
    "name": "ipython",
    "version": 2
   },
   "file_extension": ".py",
   "mimetype": "text/x-python",
   "name": "python",
   "nbconvert_exporter": "python",
   "pygments_lexer": "ipython2",
   "version": "2.7.14"
  }
 },
 "nbformat": 4,
 "nbformat_minor": 2
}
