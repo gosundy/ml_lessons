{
 "cells": [
  {
   "cell_type": "code",
   "execution_count": 13,
   "metadata": {
    "collapsed": true
   },
   "outputs": [],
   "source": [
    "import pandas as pd\n",
    "import numpy as np\n",
    "import matplotlib.pyplot as plt"
   ]
  },
  {
   "cell_type": "code",
   "execution_count": 14,
   "metadata": {},
   "outputs": [
    {
     "data": {
      "text/html": [
       "<div>\n",
       "<style>\n",
       "    .dataframe thead tr:only-child th {\n",
       "        text-align: right;\n",
       "    }\n",
       "\n",
       "    .dataframe thead th {\n",
       "        text-align: left;\n",
       "    }\n",
       "\n",
       "    .dataframe tbody tr th {\n",
       "        vertical-align: top;\n",
       "    }\n",
       "</style>\n",
       "<table border=\"1\" class=\"dataframe\">\n",
       "  <thead>\n",
       "    <tr style=\"text-align: right;\">\n",
       "      <th></th>\n",
       "      <th>PassengerId</th>\n",
       "      <th>Survived</th>\n",
       "      <th>Pclass</th>\n",
       "      <th>Name</th>\n",
       "      <th>Sex</th>\n",
       "      <th>Age</th>\n",
       "      <th>SibSp</th>\n",
       "      <th>Parch</th>\n",
       "      <th>Ticket</th>\n",
       "      <th>Fare</th>\n",
       "      <th>Cabin</th>\n",
       "      <th>Embarked</th>\n",
       "    </tr>\n",
       "  </thead>\n",
       "  <tbody>\n",
       "    <tr>\n",
       "      <th>0</th>\n",
       "      <td>1</td>\n",
       "      <td>0</td>\n",
       "      <td>3</td>\n",
       "      <td>Braund, Mr. Owen Harris</td>\n",
       "      <td>male</td>\n",
       "      <td>22.0</td>\n",
       "      <td>1</td>\n",
       "      <td>0</td>\n",
       "      <td>A/5 21171</td>\n",
       "      <td>7.2500</td>\n",
       "      <td>NaN</td>\n",
       "      <td>S</td>\n",
       "    </tr>\n",
       "    <tr>\n",
       "      <th>1</th>\n",
       "      <td>2</td>\n",
       "      <td>1</td>\n",
       "      <td>1</td>\n",
       "      <td>Cumings, Mrs. John Bradley (Florence Briggs Th...</td>\n",
       "      <td>female</td>\n",
       "      <td>38.0</td>\n",
       "      <td>1</td>\n",
       "      <td>0</td>\n",
       "      <td>PC 17599</td>\n",
       "      <td>71.2833</td>\n",
       "      <td>C85</td>\n",
       "      <td>C</td>\n",
       "    </tr>\n",
       "    <tr>\n",
       "      <th>2</th>\n",
       "      <td>3</td>\n",
       "      <td>1</td>\n",
       "      <td>3</td>\n",
       "      <td>Heikkinen, Miss. Laina</td>\n",
       "      <td>female</td>\n",
       "      <td>26.0</td>\n",
       "      <td>0</td>\n",
       "      <td>0</td>\n",
       "      <td>STON/O2. 3101282</td>\n",
       "      <td>7.9250</td>\n",
       "      <td>NaN</td>\n",
       "      <td>S</td>\n",
       "    </tr>\n",
       "    <tr>\n",
       "      <th>3</th>\n",
       "      <td>4</td>\n",
       "      <td>1</td>\n",
       "      <td>1</td>\n",
       "      <td>Futrelle, Mrs. Jacques Heath (Lily May Peel)</td>\n",
       "      <td>female</td>\n",
       "      <td>35.0</td>\n",
       "      <td>1</td>\n",
       "      <td>0</td>\n",
       "      <td>113803</td>\n",
       "      <td>53.1000</td>\n",
       "      <td>C123</td>\n",
       "      <td>S</td>\n",
       "    </tr>\n",
       "    <tr>\n",
       "      <th>4</th>\n",
       "      <td>5</td>\n",
       "      <td>0</td>\n",
       "      <td>3</td>\n",
       "      <td>Allen, Mr. William Henry</td>\n",
       "      <td>male</td>\n",
       "      <td>35.0</td>\n",
       "      <td>0</td>\n",
       "      <td>0</td>\n",
       "      <td>373450</td>\n",
       "      <td>8.0500</td>\n",
       "      <td>NaN</td>\n",
       "      <td>S</td>\n",
       "    </tr>\n",
       "  </tbody>\n",
       "</table>\n",
       "</div>"
      ],
      "text/plain": [
       "   PassengerId  Survived  Pclass  \\\n",
       "0            1         0       3   \n",
       "1            2         1       1   \n",
       "2            3         1       3   \n",
       "3            4         1       1   \n",
       "4            5         0       3   \n",
       "\n",
       "                                                Name     Sex   Age  SibSp  \\\n",
       "0                            Braund, Mr. Owen Harris    male  22.0      1   \n",
       "1  Cumings, Mrs. John Bradley (Florence Briggs Th...  female  38.0      1   \n",
       "2                             Heikkinen, Miss. Laina  female  26.0      0   \n",
       "3       Futrelle, Mrs. Jacques Heath (Lily May Peel)  female  35.0      1   \n",
       "4                           Allen, Mr. William Henry    male  35.0      0   \n",
       "\n",
       "   Parch            Ticket     Fare Cabin Embarked  \n",
       "0      0         A/5 21171   7.2500   NaN        S  \n",
       "1      0          PC 17599  71.2833   C85        C  \n",
       "2      0  STON/O2. 3101282   7.9250   NaN        S  \n",
       "3      0            113803  53.1000  C123        S  \n",
       "4      0            373450   8.0500   NaN        S  "
      ]
     },
     "execution_count": 14,
     "metadata": {},
     "output_type": "execute_result"
    }
   ],
   "source": [
    "df_train=pd.read_csv(\"./train.csv\")\n",
    "df_test=pd.read_csv(\"./test.csv\")\n",
    "df_train.head()"
   ]
  },
  {
   "cell_type": "code",
   "execution_count": 15,
   "metadata": {},
   "outputs": [
    {
     "name": "stdout",
     "output_type": "stream",
     "text": [
      "<class 'pandas.core.frame.DataFrame'>\n",
      "Int64Index: 1309 entries, 0 to 417\n",
      "Data columns (total 11 columns):\n",
      "PassengerId    1309 non-null int64\n",
      "Pclass         1309 non-null int64\n",
      "Name           1309 non-null object\n",
      "Sex            1309 non-null object\n",
      "Age            1046 non-null float64\n",
      "SibSp          1309 non-null int64\n",
      "Parch          1309 non-null int64\n",
      "Ticket         1309 non-null object\n",
      "Fare           1308 non-null float64\n",
      "Cabin          295 non-null object\n",
      "Embarked       1307 non-null object\n",
      "dtypes: float64(2), int64(4), object(5)\n",
      "memory usage: 122.7+ KB\n"
     ]
    }
   ],
   "source": [
    "#数据清洗\n",
    "\n",
    "#保存训练集的Survived\n",
    "survived_train=df_train.Survived\n",
    "#将训练集和测试集union,为了处理确实数据和数据数字化\n",
    "data=pd.concat([df_train.drop(['Survived'],axis=1),df_test])\n",
    "data.info()\n",
    "#可以看出Age,Embarked,Cabin有数据丢失"
   ]
  },
  {
   "cell_type": "code",
   "execution_count": 16,
   "metadata": {},
   "outputs": [
    {
     "name": "stdout",
     "output_type": "stream",
     "text": [
      "<class 'pandas.core.frame.DataFrame'>\n",
      "Int64Index: 1309 entries, 0 to 417\n",
      "Data columns (total 11 columns):\n",
      "PassengerId    1309 non-null int64\n",
      "Pclass         1309 non-null int64\n",
      "Name           1309 non-null object\n",
      "Sex            1309 non-null object\n",
      "Age            1309 non-null float64\n",
      "SibSp          1309 non-null int64\n",
      "Parch          1309 non-null int64\n",
      "Ticket         1309 non-null object\n",
      "Fare           1309 non-null float64\n",
      "Cabin          295 non-null object\n",
      "Embarked       1309 non-null object\n",
      "dtypes: float64(2), int64(4), object(5)\n",
      "memory usage: 122.7+ KB\n"
     ]
    }
   ],
   "source": [
    "#填充NAN数据\n",
    "data['Age']=data.Age.fillna(data.Age.median())\n",
    "data['Fare']=data.Fare.fillna(data.Fare.median())\n",
    "data['Embarked']=data.Embarked.fillna('S')\n",
    "data.info()"
   ]
  },
  {
   "cell_type": "code",
   "execution_count": 17,
   "metadata": {
    "collapsed": true
   },
   "outputs": [],
   "source": [
    "#将Sex数字化\n",
    "data=pd.get_dummies(data,columns=['Sex','Embarked'],drop_first=True)"
   ]
  },
  {
   "cell_type": "code",
   "execution_count": 18,
   "metadata": {},
   "outputs": [
    {
     "data": {
      "text/html": [
       "<div>\n",
       "<style>\n",
       "    .dataframe thead tr:only-child th {\n",
       "        text-align: right;\n",
       "    }\n",
       "\n",
       "    .dataframe thead th {\n",
       "        text-align: left;\n",
       "    }\n",
       "\n",
       "    .dataframe tbody tr th {\n",
       "        vertical-align: top;\n",
       "    }\n",
       "</style>\n",
       "<table border=\"1\" class=\"dataframe\">\n",
       "  <thead>\n",
       "    <tr style=\"text-align: right;\">\n",
       "      <th></th>\n",
       "      <th>Pclass</th>\n",
       "      <th>Age</th>\n",
       "      <th>SibSp</th>\n",
       "      <th>Parch</th>\n",
       "      <th>Fare</th>\n",
       "      <th>Sex_male</th>\n",
       "      <th>Embarked_Q</th>\n",
       "      <th>Embarked_S</th>\n",
       "    </tr>\n",
       "  </thead>\n",
       "  <tbody>\n",
       "    <tr>\n",
       "      <th>0</th>\n",
       "      <td>3</td>\n",
       "      <td>22.0</td>\n",
       "      <td>1</td>\n",
       "      <td>0</td>\n",
       "      <td>7.2500</td>\n",
       "      <td>1</td>\n",
       "      <td>0</td>\n",
       "      <td>1</td>\n",
       "    </tr>\n",
       "    <tr>\n",
       "      <th>1</th>\n",
       "      <td>1</td>\n",
       "      <td>38.0</td>\n",
       "      <td>1</td>\n",
       "      <td>0</td>\n",
       "      <td>71.2833</td>\n",
       "      <td>0</td>\n",
       "      <td>0</td>\n",
       "      <td>0</td>\n",
       "    </tr>\n",
       "    <tr>\n",
       "      <th>2</th>\n",
       "      <td>3</td>\n",
       "      <td>26.0</td>\n",
       "      <td>0</td>\n",
       "      <td>0</td>\n",
       "      <td>7.9250</td>\n",
       "      <td>0</td>\n",
       "      <td>0</td>\n",
       "      <td>1</td>\n",
       "    </tr>\n",
       "    <tr>\n",
       "      <th>3</th>\n",
       "      <td>1</td>\n",
       "      <td>35.0</td>\n",
       "      <td>1</td>\n",
       "      <td>0</td>\n",
       "      <td>53.1000</td>\n",
       "      <td>0</td>\n",
       "      <td>0</td>\n",
       "      <td>1</td>\n",
       "    </tr>\n",
       "    <tr>\n",
       "      <th>4</th>\n",
       "      <td>3</td>\n",
       "      <td>35.0</td>\n",
       "      <td>0</td>\n",
       "      <td>0</td>\n",
       "      <td>8.0500</td>\n",
       "      <td>1</td>\n",
       "      <td>0</td>\n",
       "      <td>1</td>\n",
       "    </tr>\n",
       "  </tbody>\n",
       "</table>\n",
       "</div>"
      ],
      "text/plain": [
       "   Pclass   Age  SibSp  Parch     Fare  Sex_male  Embarked_Q  Embarked_S\n",
       "0       3  22.0      1      0   7.2500         1           0           1\n",
       "1       1  38.0      1      0  71.2833         0           0           0\n",
       "2       3  26.0      0      0   7.9250         0           0           1\n",
       "3       1  35.0      1      0  53.1000         0           0           1\n",
       "4       3  35.0      0      0   8.0500         1           0           1"
      ]
     },
     "execution_count": 18,
     "metadata": {},
     "output_type": "execute_result"
    }
   ],
   "source": [
    "data=data[['Pclass','Age','SibSp','Parch','Fare','Sex_male','Embarked_Q','Embarked_S']]\n",
    "data.head()"
   ]
  },
  {
   "cell_type": "code",
   "execution_count": 19,
   "metadata": {},
   "outputs": [
    {
     "data": {
      "text/html": [
       "<div>\n",
       "<style>\n",
       "    .dataframe thead tr:only-child th {\n",
       "        text-align: right;\n",
       "    }\n",
       "\n",
       "    .dataframe thead th {\n",
       "        text-align: left;\n",
       "    }\n",
       "\n",
       "    .dataframe tbody tr th {\n",
       "        vertical-align: top;\n",
       "    }\n",
       "</style>\n",
       "<table border=\"1\" class=\"dataframe\">\n",
       "  <thead>\n",
       "    <tr style=\"text-align: right;\">\n",
       "      <th></th>\n",
       "      <th>Pclass</th>\n",
       "      <th>Age</th>\n",
       "      <th>SibSp</th>\n",
       "      <th>Parch</th>\n",
       "      <th>Fare</th>\n",
       "      <th>Sex_male</th>\n",
       "      <th>Embarked_Q</th>\n",
       "      <th>Embarked_S</th>\n",
       "    </tr>\n",
       "  </thead>\n",
       "  <tbody>\n",
       "    <tr>\n",
       "      <th>0</th>\n",
       "      <td>3</td>\n",
       "      <td>-0.09379</td>\n",
       "      <td>1</td>\n",
       "      <td>-0.042781</td>\n",
       "      <td>-0.050809</td>\n",
       "      <td>1</td>\n",
       "      <td>0</td>\n",
       "      <td>1</td>\n",
       "    </tr>\n",
       "    <tr>\n",
       "      <th>1</th>\n",
       "      <td>1</td>\n",
       "      <td>0.10621</td>\n",
       "      <td>1</td>\n",
       "      <td>-0.042781</td>\n",
       "      <td>0.074175</td>\n",
       "      <td>0</td>\n",
       "      <td>0</td>\n",
       "      <td>0</td>\n",
       "    </tr>\n",
       "    <tr>\n",
       "      <th>2</th>\n",
       "      <td>3</td>\n",
       "      <td>-0.04379</td>\n",
       "      <td>0</td>\n",
       "      <td>-0.042781</td>\n",
       "      <td>-0.049492</td>\n",
       "      <td>0</td>\n",
       "      <td>0</td>\n",
       "      <td>1</td>\n",
       "    </tr>\n",
       "    <tr>\n",
       "      <th>3</th>\n",
       "      <td>1</td>\n",
       "      <td>0.06871</td>\n",
       "      <td>1</td>\n",
       "      <td>-0.042781</td>\n",
       "      <td>0.038684</td>\n",
       "      <td>0</td>\n",
       "      <td>0</td>\n",
       "      <td>1</td>\n",
       "    </tr>\n",
       "    <tr>\n",
       "      <th>4</th>\n",
       "      <td>3</td>\n",
       "      <td>0.06871</td>\n",
       "      <td>0</td>\n",
       "      <td>-0.042781</td>\n",
       "      <td>-0.049248</td>\n",
       "      <td>1</td>\n",
       "      <td>0</td>\n",
       "      <td>1</td>\n",
       "    </tr>\n",
       "  </tbody>\n",
       "</table>\n",
       "</div>"
      ],
      "text/plain": [
       "   Pclass      Age  SibSp     Parch      Fare  Sex_male  Embarked_Q  \\\n",
       "0       3 -0.09379      1 -0.042781 -0.050809         1           0   \n",
       "1       1  0.10621      1 -0.042781  0.074175         0           0   \n",
       "2       3 -0.04379      0 -0.042781 -0.049492         0           0   \n",
       "3       1  0.06871      1 -0.042781  0.038684         0           0   \n",
       "4       3  0.06871      0 -0.042781 -0.049248         1           0   \n",
       "\n",
       "   Embarked_S  \n",
       "0           1  \n",
       "1           0  \n",
       "2           1  \n",
       "3           1  \n",
       "4           1  "
      ]
     },
     "execution_count": 19,
     "metadata": {},
     "output_type": "execute_result"
    }
   ],
   "source": [
    "#数据归一化\n",
    "#age\n",
    "ageMean=data.Age.mean()\n",
    "ageMax=data.Age.max()\n",
    "data['Age']=data.Age.apply(lambda x:(x-ageMean)/ageMax)\n",
    "#fare\n",
    "fareMean=data.Fare.mean()\n",
    "fareMax=data.Fare.max()\n",
    "data['Fare']=data.Fare.apply(lambda x:(x-fareMean)/fareMax)\n",
    "#Parch\n",
    "parchMean=data.Parch.mean()\n",
    "parchMax=data.Parch.max()\n",
    "data['Parch']=data.Parch.apply(lambda x:(x-parchMean)/parchMax)\n",
    "data.head()"
   ]
  },
  {
   "cell_type": "code",
   "execution_count": 20,
   "metadata": {
    "collapsed": true
   },
   "outputs": [],
   "source": [
    "#将训练集和测试集分离\n",
    "data_train=data.iloc[:891].T.values\n",
    "data_test=data.iloc[891:].T.values\n",
    "target=survived_train.values.reshape(1,891)"
   ]
  },
  {
   "cell_type": "code",
   "execution_count": null,
   "metadata": {
    "collapsed": true
   },
   "outputs": [],
   "source": [
    "ln=0.004\n",
    "x=data_train\n",
    "m=x.shape[1]\n",
    "w=np.random.randn(1,x.shape[0])*0.01\n",
    "b=np.zeros((1,1))\n",
    "for i in range(1000000):\n",
    "    z=np.dot(w,x)+b\n",
    "    a=1/(1+np.exp(-z))\n",
    "    j=np.sum(-(target*np.log(a)+(1-target)*np.log(1-a)))/m\n",
    "    dz=a-target\n",
    "    dw=np.dot(dz,x.T)/m\n",
    "    db=np.sum(dz)/m\n",
    "    w-=ln*dw\n",
    "    b-=ln*db\n",
    "print(j)"
   ]
  },
  {
   "cell_type": "code",
   "execution_count": null,
   "metadata": {
    "collapsed": true
   },
   "outputs": [],
   "source": [
    "test_data=data_test\n",
    "z=np.dot(w,test_data)\n",
    "a=1/(1+np.exp(-z))\n",
    "test_target=np.zeros((1,test_data.shape[1]),dtype=int)\n",
    "test_target[0][a[0]>=0.5]=1\n",
    "df_test['Survived']=test_target[0]\n",
    "df_test[['PassengerId','Survived']].to_csv(\"./test_target.csv\",index=False)"
   ]
  },
  {
   "cell_type": "code",
   "execution_count": 10,
   "metadata": {
    "collapsed": true
   },
   "outputs": [],
   "source": [
    "#第一层的激活函数使用tanh\n",
    "def g1(z1):\n",
    "    return (np.exp(z1)-np.exp(-z1))/(np.exp(z1)+np.exp(-z1))\n",
    "def g1Prime(z1):\n",
    "    a=g1(z1)\n",
    "    return 1-np.square(a)\n",
    "#第二层的激活函数使用sigmod\n",
    "def g2(z2):\n",
    "    return 1/(1+np.exp(-z2))\n",
    "def g2Prime(z2):\n",
    "    a=g1(z2)\n",
    "    return a-np.square(a)"
   ]
  },
  {
   "cell_type": "code",
   "execution_count": 112,
   "metadata": {},
   "outputs": [
    {
     "name": "stdout",
     "output_type": "stream",
     "text": [
      "[[0.41942719]]\n"
     ]
    }
   ],
   "source": [
    "#使用两层的神经网络处理线性不可分的数据\n",
    "#第零层为数据输入层\n",
    "#第二层为隐藏层(神经元个数为8)\n",
    "#第三层为输出层(神经元个数为1)\n",
    "ln=0.9\n",
    "x=data_train\n",
    "m=x.shape[1]\n",
    "hidden_node=8\n",
    "w1=np.random.randn(hidden_node,x.shape[0])*0.01\n",
    "b1=np.zeros((hidden_node,1))\n",
    "w2=np.random.randn(1,hidden_node)*0.01\n",
    "b2=np.zeros((1,1))\n",
    "for i in xrange(1000):\n",
    "    z1=np.dot(w1,x)+b1\n",
    "    a1=g1(z1)\n",
    "    z2=np.dot(w2,a1)+b2\n",
    "    a2=g2(z2)\n",
    "    #cost function\n",
    "    L=np.sum(-(target*np.log(a2)+(1-target)*np.log(1-a2)),axis=1,keepdims=True)/m\n",
    "    dz2=a2-target\n",
    "    dw2=np.dot(dz2,a1.T)/m\n",
    "    db2=np.sum(dz2,axis=1,keepdims=True)/m\n",
    "    dz1=np.dot(w2.T,dz2)*g1Prime(z1)\n",
    "    dw1=np.dot(dz1,x.T)/m\n",
    "    db1=np.sum(dz1)/m\n",
    "    w2-=ln*dw2\n",
    "    b2-=ln*db2\n",
    "    w1-=ln*dw1\n",
    "    b1-=ln*db1\n",
    "print(L)"
   ]
  },
  {
   "cell_type": "code",
   "execution_count": 59,
   "metadata": {
    "collapsed": true
   },
   "outputs": [],
   "source": [
    "test_data=data_test\n",
    "z1=np.dot(w1,test_data)+b1\n",
    "a1=g1(z1)\n",
    "z2=np.dot(w2,a1)+b2\n",
    "a2=g2(z2)\n",
    "test_target=np.zeros((1,test_data.shape[1]),dtype=int)\n",
    "test_target[0][a2[0]>=0.5]=1\n",
    "df_test['Survived']=test_target[0]\n",
    "df_test[['PassengerId','Survived']].to_csv(\"./test_target.csv\",index=False)"
   ]
  },
  {
   "cell_type": "code",
   "execution_count": 21,
   "metadata": {
    "collapsed": true
   },
   "outputs": [],
   "source": [
    "#第一层的激活函数使用tanh\n",
    "def tanh(z1):\n",
    "    return (np.exp(z1)-np.exp(-z1))/(np.exp(z1)+np.exp(-z1))\n",
    "def tanhPrime(z1):\n",
    "    a=g1(z1)\n",
    "    return 1-np.square(a)\n",
    "#第二层的激活函数使用sigmod\n",
    "def sigmod(z2):\n",
    "    return 1/(1+np.exp(-z2))\n",
    "def sigmodPrime(z2):\n",
    "    a=g1(z2)\n",
    "    return a-np.square(a)"
   ]
  },
  {
   "cell_type": "code",
   "execution_count": 45,
   "metadata": {},
   "outputs": [
    {
     "name": "stdout",
     "output_type": "stream",
     "text": [
      "[[0.39282187]]\n"
     ]
    }
   ],
   "source": [
    "#使用两层的神经网络处理线性不可分的数据\n",
    "#第零层为数据输入层\n",
    "#第一层为隐藏层(神经元个数为10)\n",
    "#第二层为输出层(神经元个数为2)\n",
    "#第三层为输出层(神经元个数为1)\n",
    "ln=0.25\n",
    "x=data_train\n",
    "m=x.shape[1]\n",
    "n0=x.shape[0]\n",
    "n1=10\n",
    "n2=6\n",
    "n3=1\n",
    "w1=np.random.randn(n1,n0)*0.01\n",
    "b1=np.zeros((n1,1))\n",
    "w2=np.random.randn(n2,n1)*0.01\n",
    "b2=np.zeros((n2,1))\n",
    "w3=np.random.randn(n3,n2)\n",
    "b3=np.zeros((n3,1))\n",
    "for i in xrange(5000):\n",
    "    z1=np.dot(w1,x)+b1\n",
    "    a1=tanh(z1)\n",
    "    z2=np.dot(w2,a1)+b2\n",
    "    a2=tanh(z2)\n",
    "    z3=np.dot(w3,a2)+b3\n",
    "    a3=sigmod(z3)\n",
    "    #cost function\n",
    "    L=np.sum(-(target*np.log(a3)+(1-target)*np.log(1-a3)),axis=1,keepdims=True)/m\n",
    "    dz3=a3-target\n",
    "    dw3=np.dot(dz3,a2.T)/m\n",
    "    db3=np.sum(dz3,axis=1,keepdims=True)/m\n",
    "    dz2=np.dot(w3.T,dz3)*tanhPrime(z2)\n",
    "    dw2=np.dot(dz2,a1.T)/m\n",
    "    db2=np.sum(dz2,axis=1,keepdims=True)/m\n",
    "    dz1=np.dot(w2.T,dz2)*tanhPrime(z1)\n",
    "    dw1=np.dot(dz1,x.T)/m\n",
    "    db1=np.sum(dz1)/m\n",
    "    w3-=ln*dw3\n",
    "    b3-=ln*db3\n",
    "    w2-=ln*dw2\n",
    "    b2-=ln*db2\n",
    "    w1-=ln*dw1\n",
    "    b1-=ln*db1\n",
    "print(L)"
   ]
  },
  {
   "cell_type": "code",
   "execution_count": 46,
   "metadata": {
    "collapsed": true
   },
   "outputs": [],
   "source": [
    "test_data=data_test\n",
    "x=test_data\n",
    "z1=np.dot(w1,x)+b1\n",
    "a1=tanh(z1)\n",
    "z2=np.dot(w2,a1)+b2\n",
    "a2=tanh(z2)\n",
    "z3=np.dot(w3,a2)+b3\n",
    "a3=sigmod(z3)\n",
    "test_target=np.zeros((1,test_data.shape[1]),dtype=int)\n",
    "test_target[0][a3[0]>=0.5]=1\n",
    "df_test['Survived']=test_target[0]\n",
    "df_test[['PassengerId','Survived']].to_csv(\"./test_target.csv\",index=False)"
   ]
  },
  {
   "cell_type": "code",
   "execution_count": 98,
   "metadata": {},
   "outputs": [
    {
     "name": "stdout",
     "output_type": "stream",
     "text": [
      "(1, 418)\n"
     ]
    }
   ],
   "source": [
    "print(a3.shape)"
   ]
  }
 ],
 "metadata": {
  "kernelspec": {
   "display_name": "Python 2",
   "language": "python",
   "name": "python2"
  },
  "language_info": {
   "codemirror_mode": {
    "name": "ipython",
    "version": 2
   },
   "file_extension": ".py",
   "mimetype": "text/x-python",
   "name": "python",
   "nbconvert_exporter": "python",
   "pygments_lexer": "ipython2",
   "version": "2.7.14"
  }
 },
 "nbformat": 4,
 "nbformat_minor": 2
}
