{
 "cells": [
  {
   "cell_type": "code",
   "execution_count": 21,
   "metadata": {
    "collapsed": true
   },
   "outputs": [],
   "source": [
    "import numpy as np"
   ]
  },
  {
   "cell_type": "code",
   "execution_count": 2,
   "metadata": {
    "collapsed": true
   },
   "outputs": [],
   "source": [
    "#两层网络\n",
    "#第一层两个神经元\n",
    "#第二层一个神经元"
   ]
  },
  {
   "cell_type": "code",
   "execution_count": 20,
   "metadata": {},
   "outputs": [
    {
     "name": "stdout",
     "output_type": "stream",
     "text": [
      "[[6.95454337e-05]]\n"
     ]
    }
   ],
   "source": [
    "#一个数据的正向传播\n",
    "x=np.array([[1,2,3,4]]).T\n",
    "target=np.array([[1]])\n",
    "w1=np.random.randn(2,4)\n",
    "b1=np.random.randn(2,1)\n",
    "w2=np.random.randn(1,2)\n",
    "b2=np.random.randn(1,1)\n",
    "z1=np.dot(w1,x)+b1\n",
    "a1=1/(1+np.exp(-z1))\n",
    "z2=np.dot(w2,z1)+b2\n",
    "a2=1/(1+np.exp(-z2))\n",
    "L=-(target*np.log(a2)+(1-target)*np.log(1-a2))\n",
    "print(L)"
   ]
  },
  {
   "cell_type": "code",
   "execution_count": 255,
   "metadata": {
    "collapsed": true
   },
   "outputs": [],
   "source": [
    "#定义第一层激活函数以及该激活函数导数,使用tanH激活函数\n",
    "def g1(z1):\n",
    "    return((np.exp(z1)-np.exp(-z1))/(np.exp(z1)+np.exp(-z1)))\n",
    "\n",
    "def g1Prime(z1):\n",
    "    return (1-np.square((np.exp(z1)-np.exp(-z1))/(np.exp(z1)+np.exp(-z1))))\n",
    "def g2(z2):\n",
    "    return (1/(1+np.exp(-z2)))"
   ]
  },
  {
   "cell_type": "code",
   "execution_count": 270,
   "metadata": {},
   "outputs": [
    {
     "name": "stdout",
     "output_type": "stream",
     "text": [
      "0.00024405731204474377\n"
     ]
    }
   ],
   "source": [
    "#m个数据的正向传播以及反向传播\n",
    "ln=0.21\n",
    "x=np.array([[1,2,3,4],[4,5,6,7]]).T\n",
    "target=np.array([[1,0]])\n",
    "w1=np.random.randn(2,4)*0.01\n",
    "b1=np.zeros((2,1))\n",
    "w2=np.random.randn(1,2)*0.01\n",
    "b2=np.zeros((1,1))\n",
    "for i in range(10000):\n",
    "    z1=np.dot(w1,x)+b1\n",
    "    a1=g1(z1)\n",
    "    z2=np.dot(w2,a1)+b2\n",
    "    a2=g2(z2)\n",
    "    L=np.sum(-(target*np.log(a2)+(1-target)*np.log(1-a2)))/x.shape[1]\n",
    "    dz2=a2-target\n",
    "    dw2=(np.dot(dz2,a1.T))/x.shape[1]\n",
    "    db2=np.sum(dz2,axis=1,keepdims=True)/x.shape[1]\n",
    "    dz1=np.dot(w2.T,dz2)*g1Prime(z1)\n",
    "    dw1=np.dot(dz1,x.T)/x.shape[1]\n",
    "    db1=np.sum(dz1,axis=1,keepdims=True)/x.shape[1]\n",
    "    w2-=ln*dw2\n",
    "    b2-=ln*db2\n",
    "    w1-=ln*dw1\n",
    "    b1-=ln*db1\n",
    "print(L)"
   ]
  },
  {
   "cell_type": "code",
   "execution_count": 24,
   "metadata": {},
   "outputs": [
    {
     "data": {
      "text/plain": [
       "4"
      ]
     },
     "execution_count": 24,
     "metadata": {},
     "output_type": "execute_result"
    }
   ],
   "source": [
    "np.square(2)"
   ]
  }
 ],
 "metadata": {
  "kernelspec": {
   "display_name": "Python 2",
   "language": "python",
   "name": "python2"
  },
  "language_info": {
   "codemirror_mode": {
    "name": "ipython",
    "version": 2
   },
   "file_extension": ".py",
   "mimetype": "text/x-python",
   "name": "python",
   "nbconvert_exporter": "python",
   "pygments_lexer": "ipython2",
   "version": "2.7.14"
  }
 },
 "nbformat": 4,
 "nbformat_minor": 2
}
