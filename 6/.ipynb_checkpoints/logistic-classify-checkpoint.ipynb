{
 "cells": [
  {
   "cell_type": "code",
   "execution_count": 46,
   "metadata": {},
   "outputs": [],
   "source": [
    "import numpy as np\n",
    "import pandas as pd\n",
    "import matplotlib.pyplot as plt"
   ]
  },
  {
   "cell_type": "code",
   "execution_count": 56,
   "metadata": {},
   "outputs": [],
   "source": [
    "dfData=pd.read_csv(\"./data.csv\")\n",
    "data=dfData.iloc[:,[0,1]].T.values\n",
    "target=np.array([dfData.iloc[:,2].T.values])"
   ]
  },
  {
   "cell_type": "code",
   "execution_count": 436,
   "metadata": {},
   "outputs": [
    {
     "data": {
      "image/png": "[encoded data removed]",
      "text/plain": [
       "<matplotlib.figure.Figure at 0x7f3eaaa37550>"
      ]
     },
     "metadata": {},
     "output_type": "display_data"
    }
   ],
   "source": [
    "#数据的分布图\n",
    "plt.scatter(x=data[0],y=data[1],c=target[0],marker='^')\n",
    "plt.xlabel(\"x1\")\n",
    "plt.ylabel(\"x2\")\n",
    "plt.show()\n",
    "plt.clf()"
   ]
  },
  {
   "cell_type": "code",
   "execution_count": 452,
   "metadata": {},
   "outputs": [
    {
     "name": "stdout",
     "output_type": "stream",
     "text": [
      "0.009655473100466693\n"
     ]
    },
    {
     "name": "stderr",
     "output_type": "stream",
     "text": [
      "/home/wto/anaconda2/lib/python2.7/site-packages/ipykernel_launcher.py:9: RuntimeWarning: divide by zero encountered in log\n",
      "  if __name__ == '__main__':\n",
      "/home/wto/anaconda2/lib/python2.7/site-packages/ipykernel_launcher.py:9: RuntimeWarning: invalid value encountered in multiply\n",
      "  if __name__ == '__main__':\n"
     ]
    }
   ],
   "source": [
    "ln=1\n",
    "x=data\n",
    "m=x.shape[1]\n",
    "w=np.random.randn(1,data.shape[0])*0.01\n",
    "b=np.zeros((1,1))\n",
    "for i in range(1000):\n",
    "    z=np.dot(w,x)+b\n",
    "    a=1/(1+np.exp(-z))\n",
    "    j=np.sum(-(target*np.log(a)+(1-target)*np.log(1-a)))\n",
    "    dz=a-target\n",
    "    dw=np.dot(x,dz.T)\n",
    "    db=np.sum(dz)/m\n",
    "    w-=ln*dw.T\n",
    "    b-=ln*db\n",
    "print(j)"
   ]
  },
  {
   "cell_type": "code",
   "execution_count": 425,
   "metadata": {},
   "outputs": [
    {
     "name": "stdout",
     "output_type": "stream",
     "text": [
      "[[ -5.47553324  -7.33472549   9.07205496   4.04076372  -0.99052752\n",
      "   -6.02181876 -13.67892346]]\n",
      "(array([[-3.17209899,  8.20339023]]), array([[-16.08440124]]))\n"
     ]
    }
   ],
   "source": [
    "#测试数据\n",
    "testData=np.array([[7,4],[5,3],[5,5],[4,4],[3,3],[2,2],[7,3]]).T\n",
    "y=np.dot(w,testData)+b\n",
    "print(y)\n",
    "print(w,b)"
   ]
  },
  {
   "cell_type": "code",
   "execution_count": 451,
   "metadata": {},
   "outputs": [
    {
     "data": {
      "image/png": "[encoded data removed]",
      "text/plain": [
       "<matplotlib.figure.Figure at 0x7f3eaae09410>"
      ]
     },
     "metadata": {},
     "output_type": "display_data"
    }
   ],
   "source": [
    "#绘制超平面,迭代100次结果\n",
    "x1=np.array([0,1,2,3,4,5,6,7,8]).reshape(1,9)\n",
    "x2=-(w[0][0]/w[0][1])*x1-b/w[0][1]\n",
    "plt.axis([0,10,0,8])\n",
    "plt.plot(x1[0],x2[0],'r--')\n",
    "plt.scatter(x=data[0],y=data[1],c=target[0],marker='^')\n",
    "plt.xlabel(\"x1\")\n",
    "plt.ylabel(\"x2\")\n",
    "plt.show()"
   ]
  },
  {
   "cell_type": "code",
   "execution_count": 453,
   "metadata": {},
   "outputs": [
    {
     "data": {
      "image/png": "[encoded data removed]",
      "text/plain": [
       "<matplotlib.figure.Figure at 0x7f3eaad30b10>"
      ]
     },
     "metadata": {},
     "output_type": "display_data"
    }
   ],
   "source": [
    "#绘制超平面,迭代1000次结果\n",
    "x1=np.array([0,1,2,3,4,5,6,7,8]).reshape(1,9)\n",
    "x2=-(w[0][0]/w[0][1])*x1-b/w[0][1]\n",
    "plt.axis([0,10,0,8])\n",
    "plt.plot(x1[0],x2[0],'r--')\n",
    "plt.scatter(x=data[0],y=data[1],c=target[0],marker='^')\n",
    "plt.xlabel(\"x1\")\n",
    "plt.ylabel(\"x2\")\n",
    "plt.show()"
   ]
  }
 ],
 "metadata": {
  "kernelspec": {
   "display_name": "Python 2",
   "language": "python",
   "name": "python2"
  },
  "language_info": {
   "codemirror_mode": {
    "name": "ipython",
    "version": 2
   },
   "file_extension": ".py",
   "mimetype": "text/x-python",
   "name": "python",
   "nbconvert_exporter": "python",
   "pygments_lexer": "ipython2",
   "version": "2.7.14"
  }
 },
 "nbformat": 4,
 "nbformat_minor": 2
}
